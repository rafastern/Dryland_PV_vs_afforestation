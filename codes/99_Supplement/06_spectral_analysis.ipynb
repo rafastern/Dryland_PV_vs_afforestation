{
 "cells": [
  {
   "cell_type": "markdown",
   "id": "c4d317f1",
   "metadata": {},
   "source": [
    "# Analysis of spectral data"
   ]
  },
  {
   "cell_type": "code",
   "execution_count": null,
   "id": "4dc8f0f8",
   "metadata": {},
   "outputs": [],
   "source": [
    "import pandas as pd\n",
    "import numpy as np\n",
    "from scipy import stats\n",
    "import glob"
   ]
  },
  {
   "cell_type": "code",
   "execution_count": null,
   "id": "e53baa39-b207-4c53-b084-4a83327eb0bb",
   "metadata": {},
   "outputs": [],
   "source": [
    "project_path = './'\n",
    "\n",
    "data_path   = project_path + '../data/cospec_analysis/'\n",
    "\n",
    "graphs_path = project_path + '../graphs/'"
   ]
  },
  {
   "cell_type": "markdown",
   "id": "87a64345",
   "metadata": {},
   "source": [
    "### Functions"
   ]
  },
  {
   "cell_type": "code",
   "execution_count": null,
   "id": "d726bb83-c6ab-48c3-87f0-3784e5ff64ac",
   "metadata": {},
   "outputs": [],
   "source": [
    "def load_all_cospec(directory, silent=False):\n",
    "    if (not silent):\n",
    "        print('  - Cospectra files:')\n",
    "        \n",
    "    file_list = sorted(glob.glob(directory + '**/*csv', recursive=True))\n",
    "    data_list = []\n",
    "    for idx, fn in enumerate(file_list):\n",
    "        print('    -', fn.split('\\\\')[-1])\n",
    "        # Read file\n",
    "        temp = pd.read_csv(fn, skiprows=11, na_values=-9999)\n",
    "        # Append timestamp\n",
    "        timestamp_fn = fn.split('\\\\')[-1].split('_')[0]\n",
    "        temp['DateTime'] = pd.to_datetime(timestamp_fn, format='%Y%m%d-%H%M')\n",
    "        # shift column 'timestamp' to first position\n",
    "        col = temp.pop('DateTime')\n",
    "        temp.insert(0, 'DateTime', col)\n",
    "        # Append to list of dfs\n",
    "        data_list.append(temp)\n",
    "    # Combine all the read data\n",
    "    df = pd.concat(data_list, axis=0, ignore_index=True)\n",
    "    # Make the timestamp the middle of the halfhour\n",
    "    df['DateTime'] = df['DateTime'] + pd.Timedelta(minutes=15)\n",
    "    return(df)\n",
    "\n",
    "def add_ecosystem(df):\n",
    "    df = df.copy()\n",
    "    # Add ecosystem\n",
    "    df['Ecosystem'] = np.nan\n",
    "    df.loc[df['DateTime'] < '2019-07-17', 'Ecosystem'] = 'Desert background'\n",
    "    df.loc[df['DateTime'] >= '2019-07-17', 'Ecosystem'] = 'PV field'\n",
    "    # shift column 'timestamp' to first position\n",
    "    col = df.pop('Ecosystem')\n",
    "    df.insert(0, 'Ecosystem', col)\n",
    "    col = df.pop('DateTime')\n",
    "    df.insert(0, 'DateTime', col)\n",
    "    return(df)"
   ]
  },
  {
   "cell_type": "code",
   "execution_count": null,
   "id": "2e0ea6f9-1880-41b6-8446-e2ae8980e795",
   "metadata": {},
   "outputs": [],
   "source": [
    "print('Loading data...')\n",
    "df = load_all_cospec(data_path)\n",
    "df = add_ecosystem(df)\n",
    "\n",
    "df['halfhour'] = df['DateTime'].dt.strftime('%H:%M')\n",
    "print('Done...')"
   ]
  },
  {
   "cell_type": "code",
   "execution_count": null,
   "id": "7e3d03ed-b6a8-4a85-a19c-b727b5d707f2",
   "metadata": {},
   "outputs": [],
   "source": [
    "display(df)"
   ]
  },
  {
   "cell_type": "markdown",
   "id": "5653cc61",
   "metadata": {},
   "source": [
    "### Make figures"
   ]
  },
  {
   "cell_type": "code",
   "execution_count": null,
   "id": "89e0038e-928f-4db6-a87e-8585c40319f3",
   "metadata": {},
   "outputs": [],
   "source": [
    "from plotnine import *\n",
    "from mizani.breaks import date_breaks\n",
    "from mizani.formatters import date_format\n",
    "# Colours\n",
    "cbPalette = ['#E69F00', '#0072B2', '#939393', '#CC00CC', '#009E73', '#D55E00', '#CC79A7', '#FF3300', '#F0E442', '#56B4E9']"
   ]
  },
  {
   "cell_type": "code",
   "execution_count": null,
   "id": "a8b51b4a-a99b-4c8e-83a4-ebefbd8e40a8",
   "metadata": {},
   "outputs": [],
   "source": [
    "plt = ggplot(df)\n",
    "plt = plt + geom_point(aes(x='natural_frequency', y='f_nat*cospec(w_u)/cov(w_u)', colour='Ecosystem'), size=0.5)\n",
    "plt = plt + theme_bw()\n",
    "plt = plt + labs(x='Frequency', y='Cospectra wu', linetype='Ecosystem')\n",
    "plt = plt + scale_colour_manual(values=cbPalette) + scale_fill_manual(values=cbPalette)\n",
    "plt = plt + scale_y_log10() + scale_x_log10()\n",
    "plt = plt + geom_abline(intercept=-1, slope=-7/3, linetype='dashed')\n",
    "plt = plt + facet_wrap('halfhour', nrow=2)\n",
    "print(plt)\n",
    "plt.save(graphs_path + 'cospectra_wu.pdf', width=1.6*15, height=1.6*7.5, units='cm', dpi=600)\n",
    "plt.save(graphs_path + 'cospectra_wu.png', width=1.6*15, height=1.6*7.5, units='cm', dpi=600)"
   ]
  },
  {
   "cell_type": "code",
   "execution_count": null,
   "id": "04b4b411-e5c8-4da9-a1fe-eb380e14fed3",
   "metadata": {},
   "outputs": [],
   "source": [
    "plt = ggplot(df)\n",
    "plt = plt + geom_point(aes(x='natural_frequency', y='f_nat*cospec(w_v)/cov(w_v)', colour='Ecosystem'), size=0.5)\n",
    "plt = plt + theme_bw()\n",
    "plt = plt + labs(x='Frequency', y='Cospectra wv', linetype='Ecosystem')\n",
    "plt = plt + scale_colour_manual(values=cbPalette) + scale_fill_manual(values=cbPalette)\n",
    "plt = plt + scale_y_log10() + scale_x_log10()\n",
    "plt = plt + geom_abline(intercept=-1, slope=-7/3, linetype='dashed')\n",
    "plt = plt + facet_wrap('halfhour', nrow=2)\n",
    "print(plt)\n",
    "plt.save(graphs_path + 'cospectra_wv.pdf', width=1.6*15, height=1.6*7.5, units='cm', dpi=600)\n",
    "plt.save(graphs_path + 'cospectra_wv.png', width=1.6*15, height=1.6*7.5, units='cm', dpi=600)"
   ]
  },
  {
   "cell_type": "code",
   "execution_count": null,
   "id": "8a67fdf1-62d1-4f70-842c-02a5d1a453e0",
   "metadata": {},
   "outputs": [],
   "source": []
  }
 ],
 "metadata": {
  "kernelspec": {
   "display_name": "Python 3",
   "language": "python",
   "name": "python3"
  },
  "language_info": {
   "codemirror_mode": {
    "name": "ipython",
    "version": 3
   },
   "file_extension": ".py",
   "mimetype": "text/x-python",
   "name": "python",
   "nbconvert_exporter": "python",
   "pygments_lexer": "ipython3",
   "version": "3.8.2"
  }
 },
 "nbformat": 4,
 "nbformat_minor": 5
}
