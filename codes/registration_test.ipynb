{
 "cells": [
  {
   "cell_type": "code",
   "execution_count": null,
   "metadata": {},
   "outputs": [],
   "source": [
    "flight_path = 'D:/Rafael/20181031 Ketura/Testing_dir/20181027_1200'\n",
    "\n",
    "reflectence_image_GRE= io.imread(flight_path + '/reflectance/IMG_181027_085944_0033_GRE.TIF')\n",
    "reflectence_image_RED= io.imread(flight_path + '/reflectance/IMG_181027_085944_0033_RED.TIF')\n",
    "reflectence_image_NIR= io.imread(flight_path + '/reflectance/IMG_181027_085944_0033_NIR.TIF')\n",
    "reflectence_image_REG= io.imread(flight_path + '/reflectance/IMG_181027_085944_0033_REG.TIF')\n",
    "print(register_translation(reflectence_image_REG, reflectence_image_RED))\n",
    "print(register_translation(reflectence_image_REG, reflectence_image_NIR))\n",
    "print(register_translation(reflectence_image_REG, reflectence_image_GRE))\n"
   ]
  },
  {
   "cell_type": "code",
   "execution_count": null,
   "metadata": {},
   "outputs": [],
   "source": [
    "flight_path = 'D:/Rafael/20181031 Ketura/Testing_dir/20181024_1645'\n",
    "\n",
    "reflectence_image_GRE= io.imread(flight_path + '/reflectance/IMG_181024_144033_0026_GRE.TIF')\n",
    "reflectence_image_RED= io.imread(flight_path + '/reflectance/IMG_181024_144033_0026_RED.TIF')\n",
    "reflectence_image_NIR= io.imread(flight_path + '/reflectance/IMG_181024_144033_0026_NIR.TIF')\n",
    "reflectence_image_REG= io.imread(flight_path + '/reflectance/IMG_181024_144033_0026_REG.TIF')\n",
    "print(register_translation(reflectence_image_REG, reflectence_image_RED))\n",
    "print(register_translation(reflectence_image_REG, reflectence_image_NIR))\n",
    "print(register_translation(reflectence_image_REG, reflectence_image_GRE))\n"
   ]
  },
  {
   "cell_type": "code",
   "execution_count": null,
   "metadata": {},
   "outputs": [],
   "source": [
    "flight_path = 'D:/Rafael/20181031 Ketura/Testing_dir/18072019_1330'\n",
    "\n",
    "reflectence_image_GRE= io.imread(flight_path + '/reflectance/IMG_190718_133839_0024_GRE.TIF')\n",
    "reflectence_image_RED= io.imread(flight_path + '/reflectance/IMG_190718_133839_0024_RED.TIF')\n",
    "reflectence_image_NIR= io.imread(flight_path + '/reflectance/IMG_190718_133839_0024_NIR.TIF')\n",
    "reflectence_image_REG= io.imread(flight_path + '/reflectance/IMG_190718_133839_0024_REG.TIF')\n",
    "print(register_translation(reflectence_image_REG, reflectence_image_RED))\n",
    "print(register_translation(reflectence_image_REG, reflectence_image_NIR))\n",
    "print(register_translation(reflectence_image_REG, reflectence_image_GRE))"
   ]
  },
  {
   "cell_type": "code",
   "execution_count": null,
   "metadata": {},
   "outputs": [],
   "source": [
    "shift = (-17,0)\n",
    "offset_image = fourier_shift(np.fft.fftn(reflectence_image_GRE), shift)\n",
    "offset_image = np.fft.ifftn(offset_image)\n",
    "io.imshow(np.abs(offset_image))"
   ]
  }
 ],
 "metadata": {
  "kernelspec": {
   "display_name": "analysis",
   "language": "python",
   "name": "analysis"
  },
  "language_info": {
   "codemirror_mode": {
    "name": "ipython",
    "version": 3
   },
   "file_extension": ".py",
   "mimetype": "text/x-python",
   "name": "python",
   "nbconvert_exporter": "python",
   "pygments_lexer": "ipython3",
   "version": "3.7.10"
  }
 },
 "nbformat": 4,
 "nbformat_minor": 4
}
