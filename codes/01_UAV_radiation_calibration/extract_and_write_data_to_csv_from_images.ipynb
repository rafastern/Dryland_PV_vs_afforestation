{
 "cells": [
  {
   "cell_type": "code",
   "execution_count": 1,
   "metadata": {},
   "outputs": [],
   "source": [
    "# in a directory of relfectance images in flight\n",
    "# for each image in the directory\n",
    "#    find mean, meadian, std of image\n",
    "#    extract incoming solar irradiance, timestamp, lat, lon, alt, band_name\n",
    "# convert pandas dataframe to csv file\n"
   ]
  },
  {
   "cell_type": "code",
   "execution_count": 3,
   "metadata": {},
   "outputs": [],
   "source": [
    "from os import listdir, mkdir\n",
    "from os.path import isfile, join, basename, split, sep, exists\n",
    "import micasense.metadata as metadata\n",
    "import micasense.sequoiautils as msutils\n",
    "from skimage import io\n",
    "import numpy as np\n",
    "import pandas as pd\n",
    "import logging\n",
    "import sys\n",
    "import yaml\n",
    "from glob import glob\n",
    "import multiprocessing\n",
    "\n",
    "logging.basicConfig(format='%(levelname)s:%(message)s', level=logging.INFO)  # was WARNING\n",
    "logging.basicConfig(format='%(asctime)s %(message)s', datefmt='%m/%d/%Y %I:%M:%S %p')\n",
    "\n",
    "def anlayze_one_flight(flight_path):\n",
    "    # get images names from a specific folder\n",
    "\n",
    "    config_file_name = \"pipeline_settings.yaml\"\n",
    "    with open(config_file_name, 'r') as stream:\n",
    "        pipeline_config = yaml.safe_load(stream)\n",
    "\n",
    "    flight_path = flight_path.replace(sep, '/')\n",
    "    reflectance_path = join(flight_path, 'reflectance')\n",
    "    raw_data_path = join(flight_path, 'rawdata')\n",
    "    analysis_path = join(flight_path, 'analysis')\n",
    "    analysis_path = analysis_path.replace(sep, '/')\n",
    "    flight_name = basename(split(flight_path)[0])\n",
    "    logging.info(flight_path)\n",
    "    analysis_path_name = join(analysis_path, flight_name +'_analysis.csv')\n",
    "    # if analysis file exists stop the loop\n",
    "    if not exists(analysis_path):\n",
    "\n",
    "        tif_file_names = [f for f in listdir(reflectance_path) if isfile(join(reflectance_path, f)) and f.endswith('.TIF')]\n",
    "        band_name= {'Green':'GRE', 'NIR': 'NIR', 'Red':'RED','Red edge':\"REG\"}\n",
    "        image_stats = dict()\n",
    "        image_stats['folder'] = []\n",
    "        image_stats['file'] = []\n",
    "        image_stats['reflectance_mean'] = []\n",
    "        image_stats['reflectance_std'] = []\n",
    "        image_stats['reflectance_median'] = []\n",
    "        image_stats['sun_irradiance(units?)'] = []\n",
    "        image_stats['date_time'] = []\n",
    "        image_stats['lat(deg)'] = []\n",
    "        image_stats['lon(deg)'] = []\n",
    "        image_stats['alt(m)'] = []\n",
    "        image_stats['band_name'] = []\n",
    "\n",
    "        for i, tif_file in enumerate(tif_file_names):\n",
    "\n",
    "\n",
    "            tif_raw_data_file_path_name = join(raw_data_path, tif_file)\n",
    "            tif_reflect_file_path_name = join(reflectance_path, tif_file)\n",
    "            meta = metadata.Metadata(tif_raw_data_file_path_name, exiftoolPath=pipeline_config['exiftoolPath'])\n",
    "            image = io.imread(tif_reflect_file_path_name)\n",
    "\n",
    "            image_stats['folder'].append(reflectance_path)\n",
    "            image_stats['file'].append(tif_file)\n",
    "            image_stats['reflectance_mean'].append(np.mean(image))\n",
    "            image_stats['reflectance_std'].append(np.std(image))\n",
    "            image_stats['reflectance_median'].append(np.median(image))\n",
    "            image_stats['sun_irradiance(units?)'].append(msutils.GetSunIrradiance(meta))\n",
    "            image_stats['date_time'].append(meta.utc_time().strftime(\"%Y-%m-%d %H:%M:%S\"))\n",
    "            image_stats['lat(deg)'].append(meta.position()[0])\n",
    "            image_stats['lon(deg)'].append(meta.position()[1])\n",
    "            image_stats['alt(m)'].append(meta.position()[2])\n",
    "            image_stats['band_name'].append(band_name[meta.band_name()])\n",
    "            logging.info('Analyzing image: ' + tif_file)\n",
    "\n",
    "        image_stats_pd = pd.DataFrame(image_stats)\n",
    "        try:\n",
    "            mkdir(analysis_path)\n",
    "        except:\n",
    "            logging.info('could not create directory ' + analysis_path)\n",
    "\n",
    "        image_stats_pd.to_csv(analysis_path_name)\n",
    "        logging.info('saving ' + flight_name +'_analysis.csv')\n",
    "    else:\n",
    "        logging.info(analysis_path + ' already exists... skipping this file.')\n",
    "\n",
    "def analyze_all_flights():\n",
    "\n",
    "    pool = multiprocessing.Pool()\n",
    "    config_file_name = \"pipeline_settings.yaml\"\n",
    "    with open(config_file_name, 'r') as stream:\n",
    "        pipeline_config = yaml.safe_load(stream)\n",
    "\n",
    "    flight_paths = glob(pipeline_config['root_folder'] + '*/')\n",
    "    logging.info(flight_paths)\n",
    "    #pool.map(anlayze_one_flight, flight_paths)\n",
    "    for flight_path in flight_paths:\n",
    "        anlayze_one_flight(flight_path)\n"
   ]
  },
  {
   "cell_type": "code",
   "execution_count": 4,
   "metadata": {},
   "outputs": [
    {
     "name": "stderr",
     "output_type": "stream",
     "text": [
      "INFO:['D:/Rafael/20181031 Ketura/problematic/Testing_dir\\\\20181024_1645\\\\', 'D:/Rafael/20181031 Ketura/problematic/Testing_dir\\\\20181027_1200\\\\']\n",
      "INFO:D:/Rafael/20181031 Ketura/problematic/Testing_dir/20181024_1645/\n",
      "INFO:D:/Rafael/20181031 Ketura/problematic/Testing_dir/20181024_1645/analysis already exists... skipping this file.\n",
      "INFO:D:/Rafael/20181031 Ketura/problematic/Testing_dir/20181027_1200/\n",
      "INFO:D:/Rafael/20181031 Ketura/problematic/Testing_dir/20181027_1200/analysis already exists... skipping this file.\n"
     ]
    }
   ],
   "source": [
    "analyze_all_flights()"
   ]
  },
  {
   "cell_type": "code",
   "execution_count": 7,
   "metadata": {},
   "outputs": [
    {
     "data": {
      "text/plain": [
       "<generator object <genexpr> at 0x000001F91BDC0BF8>"
      ]
     },
     "execution_count": 7,
     "metadata": {},
     "output_type": "execute_result"
    }
   ],
   "source": [
    "\n",
    "config_file_name = \"pipeline_settings.yaml\"\n",
    "with open(config_file_name, 'r') as stream:\n",
    "    pipeline_config = yaml.safe_load(stream)\n",
    "\n",
    "flight_paths = glob(pipeline_config['root_folder'] + '*/')\n",
    "\n",
    "(flight_path for flight_path in flight_paths)"
   ]
  },
  {
   "cell_type": "code",
   "execution_count": 57,
   "metadata": {},
   "outputs": [],
   "source": []
  },
  {
   "cell_type": "code",
   "execution_count": 8,
   "metadata": {},
   "outputs": [],
   "source": [
    "file_name_path ='D:/Rafael/20181031 Ketura/problematic/Testing_dir\\\\20181024_1645\\\\'"
   ]
  },
  {
   "cell_type": "code",
   "execution_count": 9,
   "metadata": {},
   "outputs": [
    {
     "data": {
      "text/plain": [
       "''"
      ]
     },
     "execution_count": 9,
     "metadata": {},
     "output_type": "execute_result"
    }
   ],
   "source": [
    "basename(split(file_name_path[1])[0])"
   ]
  },
  {
   "cell_type": "code",
   "execution_count": 15,
   "metadata": {},
   "outputs": [
    {
     "data": {
      "text/plain": [
       "'20181024_1645'"
      ]
     },
     "execution_count": 15,
     "metadata": {},
     "output_type": "execute_result"
    }
   ],
   "source": [
    "basename(split(file_name_path)[0])"
   ]
  },
  {
   "cell_type": "code",
   "execution_count": null,
   "metadata": {},
   "outputs": [],
   "source": []
  }
 ],
 "metadata": {
  "kernelspec": {
   "display_name": "analysis",
   "language": "python",
   "name": "analysis"
  },
  "language_info": {
   "codemirror_mode": {
    "name": "ipython",
    "version": 3
   },
   "file_extension": ".py",
   "mimetype": "text/x-python",
   "name": "python",
   "nbconvert_exporter": "python",
   "pygments_lexer": "ipython3",
   "version": "3.7.10"
  }
 },
 "nbformat": 4,
 "nbformat_minor": 4
}
