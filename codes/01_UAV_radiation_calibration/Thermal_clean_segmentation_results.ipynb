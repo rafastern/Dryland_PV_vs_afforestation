{
 "cells": [
  {
   "cell_type": "code",
   "execution_count": 11,
   "metadata": {},
   "outputs": [],
   "source": [
    "from tifffile import imsave, imread\n",
    "import glob\n",
    "from timeit import default_timer as timer\n",
    "import os.path\n",
    "import logging\n",
    "from skimage.io import imshow, imread\n",
    "import argparse\n",
    "import io\n",
    "import json\n",
    "import os\n",
    "import re\n",
    "import csv\n",
    "import subprocess\n",
    "from PIL import Image\n",
    "from math import sqrt, exp, log\n",
    "from matplotlib import cm\n",
    "from matplotlib import pyplot as plt\n",
    "import numpy as np\n",
    "import micasense.metadata as metadata\n",
    "from datetime import datetime, timedelta\n",
    "import pytz\n",
    "import pandas as pd\n",
    "import yaml\n",
    "from glob import glob\n",
    "from shutil import rmtree, copyfile\n",
    "import seaborn as sns"
   ]
  },
  {
   "cell_type": "code",
   "execution_count": 12,
   "metadata": {},
   "outputs": [],
   "source": [
    "# Clean analysis\n",
    "def clean_thermal(flight_paths, clean_seg_debug = False, clean_analysis = False,\n",
    "                  clean_thermal_tiff = False, clean_segmentation = False):\n",
    "    \n",
    "    for flight_path in flight_paths:\n",
    "\n",
    "        # construct relavant path\n",
    "        flight_path = os.path.split(flight_path)[0]\n",
    "        thermal_tiff_path = os.path.join(flight_path, 'thermal_tiff')\n",
    "        seg_path = os.path.join(flight_path, 'segmentation')\n",
    "        seg_debug_path = os.path.join(flight_path, 'seg_debug')\n",
    "        analysis_path = os.path.join(flight_path, 'analysis')\n",
    "\n",
    "        if clean_seg_debug:\n",
    "            try:\n",
    "                rmtree(seg_debug_path)\n",
    "            except FileNotFoundError:\n",
    "                logging.info(seg_debug_path + ' directory does not exist')\n",
    "\n",
    "        if clean_analysis:\n",
    "            try:\n",
    "                rmtree(analysis_path)\n",
    "            except FileNotFoundError:\n",
    "                logging.info(analysis_path + ' directory does not exist')\n",
    "\n",
    "        if clean_thermal_tiff:\n",
    "            try:\n",
    "                rmtree(thermal_tiff_path)\n",
    "            except FileNotFoundError:\n",
    "                logging.info(thermal_tiff_path + ' directory does not exist')\n",
    "        \n",
    "\n",
    "        if clean_segmentation:\n",
    "            try:\n",
    "                rmtree(seg_path)\n",
    "            except FileNotFoundError:\n",
    "                logging.info(seg_path + ' directory does not exist')\n"
   ]
  },
  {
   "cell_type": "code",
   "execution_count": 16,
   "metadata": {},
   "outputs": [],
   "source": [
    "# Run to clean thermal segmentation results\n",
    "# BE VERY CAREFUL RUNNING THIS CELL, AS IT WILL DELETE THE PREVIOUS ANLAYSIS - CLEAN ANALYSIS \n",
    "config_file_name = \"pipeline_settings.yaml\"\n",
    "with open(config_file_name, 'r') as stream:\n",
    "    pipeline_config = yaml.safe_load(stream)\n",
    "root_flights_folder = pipeline_config['root_thermal_2019_folder']\n",
    "flight_paths = glob(root_flights_folder + '*/')\n",
    "\n",
    "clean_thermal(flight_paths, clean_seg_debug = False, clean_analysis = True,\n",
    "                  clean_thermal_tiff = False, clean_segmentation = False)"
   ]
  },
  {
   "cell_type": "code",
   "execution_count": 15,
   "metadata": {},
   "outputs": [],
   "source": [
    "# Run to clean thermal segmentation results\n",
    "# BE VERY CAREFUL RUNNING THIS CELL, AS IT WILL DELETE THE PREVIOUS ANLAYSIS - CLEAN ANALYSIS \n",
    "config_file_name = \"pipeline_settings.yaml\"\n",
    "with open(config_file_name, 'r') as stream:\n",
    "    pipeline_config = yaml.safe_load(stream)\n",
    "root_flights_folder = pipeline_config['root_thermal_2018_folder']\n",
    "flight_paths = glob(root_flights_folder + '*/')\n",
    "\n",
    "clean_thermal(flight_paths, clean_seg_debug = False, clean_analysis = True,\n",
    "                  clean_thermal_tiff = False, clean_segmentation = False)"
   ]
  },
  {
   "cell_type": "code",
   "execution_count": null,
   "metadata": {},
   "outputs": [],
   "source": []
  }
 ],
 "metadata": {
  "kernelspec": {
   "display_name": "Python 3",
   "language": "python",
   "name": "python3"
  },
  "language_info": {
   "codemirror_mode": {
    "name": "ipython",
    "version": 3
   },
   "file_extension": ".py",
   "mimetype": "text/x-python",
   "name": "python",
   "nbconvert_exporter": "python",
   "pygments_lexer": "ipython3",
   "version": "3.7.10"
  }
 },
 "nbformat": 4,
 "nbformat_minor": 4
}
