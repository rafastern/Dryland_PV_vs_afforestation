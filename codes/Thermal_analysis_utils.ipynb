{
 "cells": [
  {
   "cell_type": "markdown",
   "metadata": {},
   "source": [
    "Thermal analysis utils"
   ]
  },
  {
   "cell_type": "code",
   "execution_count": null,
   "metadata": {},
   "outputs": [],
   "source": [
    "from tifffile import imsave, imread\n",
    "import glob\n",
    "from timeit import default_timer as timer\n",
    "import os.path\n",
    "import logging\n",
    "from skimage.io import imshow, imread\n",
    "import argparse\n",
    "import io\n",
    "import json\n",
    "import os\n",
    "import re\n",
    "import csv\n",
    "import subprocess\n",
    "from PIL import Image\n",
    "from math import sqrt, exp, log\n",
    "from matplotlib import cm\n",
    "from matplotlib import pyplot as plt\n",
    "import numpy as np\n",
    "import micasense.metadata as metadata\n",
    "from datetime import datetime, timedelta\n",
    "import pytz\n",
    "import pandas as pd\n",
    "import yaml\n",
    "from glob import glob\n",
    "from shutil import rmtree, copyfile\n",
    "import seaborn as sns"
   ]
  },
  {
   "cell_type": "code",
   "execution_count": null,
   "metadata": {},
   "outputs": [],
   "source": [
    "# 2018 thermal dataset\n",
    "# extract from dataset a random image from each flight to check UNET NN efficiencies\n",
    "config_file_name = \"pipeline_settings.yaml\"\n",
    "with open(config_file_name, 'r') as stream:\n",
    "    pipeline_config = yaml.safe_load(stream)\n",
    "    \n",
    "# flights root folder\n",
    "root_flights_folder = pipeline_config['root_thermal_2018_folder']\n",
    "flight_paths = glob(root_flights_folder + '*/')\n",
    "rand_file_list = []\n",
    "\n",
    "# test dir\n",
    "test_dir = 'Z:/Home/GROUP MEMBERS/Rafael/Analyses/Ketura Solar/Drone/October 2018/2018 thermal images/thermal/test_dir/flight/thermal/'\n",
    "\n",
    "for flight_name in flight_paths:\n",
    "    img_file_name = glob(os.path.join(flight_name, 'thermal') + '/*.JPG')\n",
    "    rand_file_list.append(img_file_name[np.random.randint(low=0, high=len(img_file_name))])\n",
    "    \n",
    "for file_name in rand_file_list:\n",
    "    copyfile(file_name, os.path.join(test_dir, os.path.split(file_name)[1]))"
   ]
  }
 ],
 "metadata": {
  "kernelspec": {
   "display_name": "Python 3",
   "language": "python",
   "name": "python3"
  },
  "language_info": {
   "codemirror_mode": {
    "name": "ipython",
    "version": 3
   },
   "file_extension": ".py",
   "mimetype": "text/x-python",
   "name": "python",
   "nbconvert_exporter": "python",
   "pygments_lexer": "ipython3",
   "version": "3.7.10"
  }
 },
 "nbformat": 4,
 "nbformat_minor": 4
}
