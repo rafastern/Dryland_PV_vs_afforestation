{
 "cells": [
  {
   "cell_type": "markdown",
   "id": "29f44296-722f-4ecb-8ca7-7d3970db9a70",
   "metadata": {},
   "source": [
    "# Supplementary Figure S6: Windrose graphs\n",
    "\n",
    "Based on: https://hatarilabs.com/ih-en/how-to-make-a-wind-rose-with-python-tutorial"
   ]
  },
  {
   "cell_type": "code",
   "execution_count": null,
   "id": "2e9efbdc-c618-4372-a5a4-909adee83e7e",
   "metadata": {},
   "outputs": [],
   "source": [
    "import pandas as pd\n",
    "import numpy as np\n",
    "\n",
    "# Note: You need to do: conda install windrose\n",
    "from matplotlib import pyplot as plt\n",
    "import matplotlib.cm as cm\n",
    "from math import pi\n",
    "from windrose import WindroseAxes"
   ]
  },
  {
   "cell_type": "code",
   "execution_count": null,
   "id": "8a18cc0b-f8e6-4303-8cdf-589fde0fe48e",
   "metadata": {},
   "outputs": [],
   "source": [
    "project_path = '../'\n",
    "\n",
    "graphs_path = project_path + '../graphs/'\n",
    "data_path = project_path + '../data/'\n",
    "\n",
    "ec_fn = data_path + 'dataset.csv'"
   ]
  },
  {
   "cell_type": "markdown",
   "id": "184a8ff0-4906-499c-86d2-5df000d0ef08",
   "metadata": {},
   "source": [
    "## Load data"
   ]
  },
  {
   "cell_type": "code",
   "execution_count": null,
   "id": "0f4c38e2-a4a5-44b2-9c38-3f65f7cbb71e",
   "metadata": {},
   "outputs": [],
   "source": [
    "def load_data(fn, index_col=False, silent=False):\n",
    "    if (not silent):\n",
    "        print('-', fn.split('/')[-1])\n",
    "    temp = pd.read_csv(fn, index_col=index_col)\n",
    "    temp['DateTime'] = pd.to_datetime(temp['DateTime'], format='%Y-%m-%d %H:%M:%S', utc=True)\n",
    "    return(temp)"
   ]
  },
  {
   "cell_type": "code",
   "execution_count": null,
   "id": "b297dd99-02c3-470b-ae5e-e4d55c2ed872",
   "metadata": {},
   "outputs": [],
   "source": [
    "print(\"Loading data\")\n",
    "print(\"------------\")\n",
    "\n",
    "ec = load_data(ec_fn)\n",
    "\n",
    "# Extract only PV field data\n",
    "ec = ec.loc[ec['Ecosystem'].str.contains('PV')].copy()\n",
    "# Re-label\n",
    "ec.loc[ec['Ecosystem'] == 'PV field', 'Ecosystem'] = 'PV'\n",
    "ec.loc[ec['Ecosystem'] == 'PV desert background', 'Ecosystem'] = 'Desert'\n",
    "\n",
    "# Define seasons\n",
    "ec['season'] = np.nan\n",
    "ec.loc[ec['Month'] == 'March', 'season'] = 'Spring'\n",
    "ec.loc[ec['Month'] == 'October', 'season'] = 'Autumn'\n",
    "ec.loc[ec['Month'] == 'July', 'season'] = 'Summer'\n",
    "ec.loc[ec['Month'] == 'August', 'season'] = 'Summer'\n",
    "\n",
    "ec['location'] = ec['season'] + ' - ' + ec['Ecosystem']\n",
    "\n",
    "print('Done...')\n",
    "#print(ec.columns.values)"
   ]
  },
  {
   "cell_type": "code",
   "execution_count": null,
   "id": "f667df44-6ba2-4056-b378-b335a701adb5",
   "metadata": {},
   "outputs": [],
   "source": [
    "ec['location'].unique()"
   ]
  },
  {
   "cell_type": "code",
   "execution_count": null,
   "id": "a7e47636-55d1-4774-99f8-cae1d570381a",
   "metadata": {},
   "outputs": [],
   "source": [
    "plt.rcParams.update({'font.size': 12})\n",
    "plt.rcParams['font.family'] = 'serif'\n",
    "\n",
    "nrows, ncols = 3, 2\n",
    "fig = plt.figure(figsize=(8, 12), dpi=300)\n",
    "bins = np.arange(0.01, 1.2, 0.2)\n",
    "print(max(ec['uStar']))\n",
    "\n",
    "# Categories, in order, from ec['location'].unique():\n",
    "categories = ['Spring - Desert',  'Spring - PV', 'Summer - Desert',  'Summer - PV', 'Autumn - Desert', 'Autumn - PV']\n",
    "\n",
    "i = 1\n",
    "print('Preparing plot for:')\n",
    "for location in categories:\n",
    "    print('  ('+ chr(ord('`')+i) + ') ' + location)\n",
    "    temp = ec.loc[(ec['location'] == location)]\n",
    "    ax = fig.add_subplot(nrows, ncols, i, projection=\"windrose\")\n",
    "    ax.bar(temp['Wind_direction'], temp['uStar'], bins=bins, normed=True, opening=0.8, edgecolor='white')\n",
    "    ax.set_title('('+ chr(ord('`')+i) + ') ' + location, pad=20)\n",
    "    i+=1\n",
    "\n",
    "# Add legend\n",
    "plt.legend(title='$u_*$ [$m~s^{-1}$]', prop={'size': 10}, fontsize = 'large', loc='lower center', bbox_to_anchor=(-0.1, -0.5), ncol=3)\n",
    "# Adjust subplots\n",
    "plt.subplots_adjust(left=0.1,bottom=0.1,right=0.9,top=0.9,wspace=0.4,hspace=0.4)\n",
    "\n",
    "# Save\n",
    "print('Saving...')\n",
    "plt.savefig(graphs_path + 'windroses.pdf')\n",
    "plt.savefig(graphs_path + 'windroses.png', dpi=300)\n",
    "print('Done...')\n",
    "\n",
    "plt.show()"
   ]
  },
  {
   "cell_type": "code",
   "execution_count": null,
   "id": "cf035f8b-c30b-4c81-bda0-00c1fd86755b",
   "metadata": {},
   "outputs": [],
   "source": [
    "# Show a single season\n",
    "\n",
    "temp = ec.loc[(ec['location'] == 'Summer - PV')]\n",
    "\n",
    "plt.rcParams.update({'font.size': 18})\n",
    "plt.setp(ax.get_legend().get_texts(), fontsize='12')\n",
    "plt.rcParams['font.family'] = 'serif'\n",
    "\n",
    "ax = WindroseAxes.from_ax()\n",
    "ax.bar(temp['Wind_direction'], temp['uStar'], normed=True, opening=0.8, edgecolor='white')\n",
    "ax.set_legend(loc='lower right', title='$u_*$ [$m~s^{-1}$]', prop={'size': 10}, fontsize = 'large')\n",
    "ax.set_title('Summer - PV')\n",
    "# Change font size of legend\n",
    "plt.setp(ax.get_legend().get_texts(), fontsize='12')\n",
    "\n",
    "# Save\n",
    "#plt.savefig(graphs_path + 'windroses.pdf')\n",
    "#plt.savefig(graphs_path + 'windroses.png', dpi=300)"
   ]
  },
  {
   "cell_type": "code",
   "execution_count": null,
   "id": "153a6ff4-9e6f-48c7-bb0f-ebf610e67a6c",
   "metadata": {},
   "outputs": [],
   "source": []
  }
 ],
 "metadata": {
  "kernelspec": {
   "display_name": "dp",
   "language": "python",
   "name": "dp"
  },
  "language_info": {
   "codemirror_mode": {
    "name": "ipython",
    "version": 3
   },
   "file_extension": ".py",
   "mimetype": "text/x-python",
   "name": "python",
   "nbconvert_exporter": "python",
   "pygments_lexer": "ipython3",
   "version": "3.8.2"
  }
 },
 "nbformat": 4,
 "nbformat_minor": 5
}
