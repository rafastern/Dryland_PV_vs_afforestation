{
 "cells": [
  {
   "cell_type": "markdown",
   "id": "0a94086f-140c-46a9-a30c-ef8429c9a1b3",
   "metadata": {},
   "source": [
    "# Ecosystem emissivity, Summer data (Following Thakur et al. 2022)\n",
    "\n",
    "Thakur, G., Schymanski, S.J., Mallick, K. et al. Downwelling longwave radiation and sensible heat flux observations are critical for surface temperature and emissivity estimation from flux tower data. Sci Rep 12, 8592 (2022). https://doi.org/10.1038/s41598-022-12304-3"
   ]
  },
  {
   "cell_type": "code",
   "execution_count": null,
   "id": "fa35f34f-8bf9-4037-bff7-8be146d70487",
   "metadata": {},
   "outputs": [],
   "source": [
    "import pandas as pd\n",
    "import numpy as np\n",
    "import glob\n",
    "import scipy.stats\n",
    "from plotnine import *"
   ]
  },
  {
   "cell_type": "markdown",
   "id": "826738dd-8181-41ae-a026-5cdfbbbf9f0f",
   "metadata": {},
   "source": [
    "## Functions"
   ]
  },
  {
   "cell_type": "code",
   "execution_count": null,
   "id": "0fe1f899-c1f8-40e2-8580-223a49b4352b",
   "metadata": {},
   "outputs": [],
   "source": [
    "# Stefan-Boltzmann constant\n",
    "sigma = 5.670374419 * 10**(-8) # [W m−2 K−4]"
   ]
  },
  {
   "cell_type": "code",
   "execution_count": null,
   "id": "b8b85db0-0975-471f-af22-b4c31a6ab333",
   "metadata": {},
   "outputs": [],
   "source": [
    "def load_data(fn, index_col=False, silent=False):\n",
    "    if (not silent):\n",
    "        print('-', fn.split('/')[-1])\n",
    "    temp = pd.read_csv(fn, index_col=index_col)\n",
    "    temp['DateTime'] = pd.to_datetime(temp['DateTime'], format='%Y-%m-%d %H:%M:%S', utc=True)\n",
    "    return(temp)\n",
    "\n",
    "# Function to calculate RMSE\n",
    "def rmse(predictions, targets):\n",
    "    return np.sqrt(((predictions - targets) ** 2).mean())"
   ]
  },
  {
   "cell_type": "markdown",
   "id": "e5e99e03-7320-46dd-80ca-f02cb7581567",
   "metadata": {},
   "source": [
    "### Method by Juang et al. (2007)\n",
    "\n",
    "This method has been used by extensively by Novick & Katul (e.g. 2020), and their co-authors, but it has major problems\n",
    "\n",
    "- Empirical equation: $\\varepsilon = -0.16 \\alpha + 0.99$\n",
    "- They claim that $R^2 = 0.94$ in their creation of this equation, but upon re-analysis by Mila Volkov (MSc student), we found no significant correlation at all"
   ]
  },
  {
   "cell_type": "code",
   "execution_count": null,
   "id": "7f4b9e3e-5508-47ca-af0a-b76fc1c078c9",
   "metadata": {},
   "outputs": [],
   "source": [
    "def emissivity_juang2007(in_df):\n",
    "    temp = in_df.copy()\n",
    "    # Calculate albedo\n",
    "    #temp['albedo'] = temp['SWout'] / temp['SWin']\n",
    "    # Keep only daytime values with large Rn\n",
    "    temp = temp.loc[temp['Rn'] > 100]\n",
    "    # Calculate emissivity for each datapoint\n",
    "    temp['emissivity'] = -0.16 * temp['albedo'] + 0.99\n",
    "    # calculate mean & standard deviation\n",
    "    emissivity = np.mean(temp['emissivity'])\n",
    "    emissivity_sd = np.std(temp['emissivity'])\n",
    "    return(emissivity, emissivity_sd)"
   ]
  },
  {
   "cell_type": "markdown",
   "id": "18f5d8bd-ac59-46bb-901d-b6513d0ec739",
   "metadata": {},
   "source": [
    "### Method by Maes et. al (2019)\n",
    "\n",
    "- Developed an equation of the form: $\\varepsilon = \\frac{R_{l,\\uparrow} - R_{l,\\downarrow}}{T_a^4 \\sigma - R_{l,\\downarrow}}$\n",
    "- For data filtered according to $−2 < H < 2$ , and $\\alpha < 0.4$"
   ]
  },
  {
   "cell_type": "code",
   "execution_count": null,
   "id": "7042db98-8ca8-427f-b9a7-27340b24698d",
   "metadata": {},
   "outputs": [],
   "source": [
    "def emissivity_maesetal2019(in_df):\n",
    "    # Stefan-Boltzmann constant\n",
    "    sigma = 5.670374419 * 10**(-8) # [W m−2 K−4]\n",
    "    # Filter according to Maes et al. (2019)\n",
    "    temp = in_df.loc[(in_df['H'] > -2) & (in_df['H'] < 2) & ((in_df['SWout']/in_df['SWin']) > 0.4)].copy()\n",
    "    # Calculate emissivity for each datapoint, using air temperature in Kelvin\n",
    "    temp['emissivity'] = (temp['Lout'] - temp['Lin']) / (temp['Ta']**4 * sigma - temp['Lin'])\n",
    "    # calculate mean & standard deviation\n",
    "    emissivity = np.median(temp['emissivity'])\n",
    "    emissivity_sd = np.std(temp['emissivity'])\n",
    "    return(emissivity, emissivity_sd)"
   ]
  },
  {
   "cell_type": "markdown",
   "id": "411d06ea-2435-4ae7-b6c7-69f2164a199f",
   "metadata": {},
   "source": [
    "### Method by Thakur et al. (2022): BEST METHOD\n",
    "\n",
    "We start with the equations for radiometers:\n",
    "- Short eq.: $R_{l,\\uparrow} \\approx \\varepsilon\\sigma T^4$\n",
    "- Long eq., ignoring the air column: $R_{l,\\uparrow} = \\varepsilon\\sigma T^4_s + (1 - \\varepsilon) R_{l,\\downarrow}$\n",
    "- Solving the long eq. for $T_s$ yields: $ T_s = \\sqrt[4]{\\frac{R_{l,\\uparrow} - (1 - \\varepsilon) R_{l,\\downarrow}}{\\varepsilon\\sigma}} = \\sqrt[4]{\\frac{R_{l,\\uparrow}}{\\varepsilon\\sigma} - \\frac{R_{l,\\downarrow}}{\\varepsilon\\sigma} + \\frac{R_{l,\\downarrow}}{\\sigma} }$ (i.e. Thakur et al., 2021; eq. 7)\n",
    "\n",
    "The sensible heat equations are the following:\n",
    "- Sensible heat equation: $H = \\rho c_p \\frac{T_s - T_a}{r_H}$\n",
    "- Alternatively, base equation: $H = m(Ts − Ta) + c$, where $m$ is the proportionality constant or heat transfer coefficient, and $c$ is the offset due to the $H$ from surfaces in the aerodynamic footprint that are not seen by the radiometer\n",
    "\n",
    "Data should be filtered slightly:\n",
    "- Wind speed larger than 0.1 m s-1\n",
    "- Net radiation larger than 25 W m-2"
   ]
  },
  {
   "cell_type": "code",
   "execution_count": null,
   "id": "251bfa44-14bb-476c-a655-a8e327442c53",
   "metadata": {},
   "outputs": [],
   "source": [
    "# Search for ecosystem emissivity\n",
    "def search_emissivity(in_df):\n",
    "    # Stefan-Boltzmann constant\n",
    "    sigma = 5.670374419 * 10**(-8) # [W m−2 K−4]\n",
    "    # Create a df to store all the tested values\n",
    "    results = pd.DataFrame(columns=[\"RMSE\", \"m\",\"eps_ref\",\"R2\",\"c\"])\n",
    "    # Create a list of potential emissivities\n",
    "    emissivity_range = np.arange(0.7,1,0.001).tolist() # using array of the emissivity values\n",
    "    # Filter the input data\n",
    "    temp = in_df.loc[in_df['Rn'] > 25].copy()\n",
    "    \n",
    "    # Function to calculate RMSE\n",
    "    def rmse(predictions, targets):\n",
    "        return np.sqrt(((predictions - targets) ** 2).mean())\n",
    "    \n",
    "    # Prepare empty data\n",
    "    data = []\n",
    "    # Calculate values for all emissivities in the range\n",
    "    for emissivity in emissivity_range:\n",
    "        emissivity = np.round(emissivity, 3)\n",
    "        # Surface temperature [K]\n",
    "        temp['Ts'] = ((temp['Lout'] - (1 - emissivity) * temp['Lin']) / (emissivity * sigma))**(1/4)\n",
    "        # Surface-Air temperature difference (Note: Ta must be in K)\n",
    "        temp['dT'] = temp['Ts'] - temp['Ta']\n",
    "        # Eliminate data where either H or dT is NA\n",
    "        temp = temp.loc[~temp['dT'].isna() & ~temp['H'].isna()].copy()\n",
    "        #display(temp[['dT', 'H']])\n",
    "        \n",
    "        # Set x and y\n",
    "        dT = temp['dT']\n",
    "        H = temp['H']\n",
    "        # Try a linear regression (Git's method)\n",
    "        try:\n",
    "            slope, intercept, r2, p, stderr = scipy.stats.linregress(dT, H)\n",
    "        except:\n",
    "            # If the regression didn't work, R2 should be 0 (no correlation)\n",
    "            r2=0\n",
    "        else:\n",
    "            RMSE = rmse(intercept + slope * dT, H)\n",
    "        \n",
    "        # Add to resulting data list\n",
    "        #data.append([emissivity, slope, intercept, r2, p, stderr, RMSE]) # Appends everything, even bad data\n",
    "        #print(emissivity, slope, intercept, r2, p, stderr, RMSE)\n",
    "        if r2 > 0.5:\n",
    "            data.append([emissivity, slope, intercept, r2, p, stderr, RMSE])\n",
    "        else:\n",
    "            data.append([emissivity, np.nan, np.nan,   r2, np.nan, np.nan, np.nan])\n",
    "        \n",
    "        # Convert to dataframe\n",
    "        out_df = pd.DataFrame(data, columns=['emissivity', 'slope', 'intercept', 'R2', 'P', 'stderr', 'RMSE'])\n",
    "        \n",
    "        # Sort by RMSE and R2\n",
    "        out_df.sort_values(by=['RMSE', 'R2'], ascending=True, inplace=True)\n",
    "    return(out_df)"
   ]
  },
  {
   "cell_type": "markdown",
   "id": "9d03ba5b-d054-4c6f-89ed-36ff096aa106",
   "metadata": {},
   "source": [
    "## Load data"
   ]
  },
  {
   "cell_type": "code",
   "execution_count": null,
   "id": "86f3b070-b7a0-4789-9958-c0d941619381",
   "metadata": {},
   "outputs": [],
   "source": [
    "# Data location\n",
    "project_path = './'\n",
    "\n",
    "# Input\n",
    "data_path = project_path + '../../data/'\n",
    "graphs_path = project_path + '../graphs/'\n",
    "\n",
    "# Data files\n",
    "yatir_desert_fn = data_path + 'dataset.csv'"
   ]
  },
  {
   "cell_type": "code",
   "execution_count": null,
   "id": "fe0af707-ce97-410d-b062-e112f29fefab",
   "metadata": {},
   "outputs": [],
   "source": [
    "print(\"Loading data\")\n",
    "print(\"------------\")\n",
    "\n",
    "df = load_data(yatir_desert_fn)\n",
    "# Selecting Afforestation Desert Background campaigns\n",
    "df = df.loc[df['Ecosystem'] == 'Afforestation desert background'].copy()\n",
    "\n",
    "df['Rn'] = df['SWin'] - df['SWout'] + df['Lin'] - df['Lout']\n",
    "\n",
    "df['Ta'] = df['Ta'] + 273.15 # Convert from °C to K\n",
    "\n",
    "print('Done...')"
   ]
  },
  {
   "cell_type": "code",
   "execution_count": null,
   "id": "b4c309db-fa2c-493a-8bc4-1ff5ed65f363",
   "metadata": {},
   "outputs": [],
   "source": [
    "df_summer1 = df.loc[(df['Month'] != 'March') & (df['Year'] == 2013)]\n",
    "df_summer2 = df.loc[(df['Month'] != 'March') & (df['Year'] == 2015)]"
   ]
  },
  {
   "cell_type": "markdown",
   "id": "e9aaf1b5-a99e-4127-948f-423943150e53",
   "metadata": {},
   "source": [
    "#### Check correlation between sonic and air temperature"
   ]
  },
  {
   "cell_type": "code",
   "execution_count": null,
   "id": "5d2716e2-413a-4456-8857-ca9650f65542",
   "metadata": {},
   "outputs": [],
   "source": [
    "temp = df_summer1.copy()\n",
    "temp = temp.loc[~temp['Ta'].isna() & ~temp['Tsonic'].isna()].copy()\n",
    "\n",
    "# Do the regression\n",
    "slope, intercept, r2, p, stderr = scipy.stats.linregress(temp['Tsonic'], temp['Ta'])\n",
    "# Show results\n",
    "print('T air sonic vs. normal')\n",
    "print('Slope:     ', slope)\n",
    "print('Intercept: ', intercept)\n",
    "print('R2:        ', r2)\n",
    "print('P-value:   ', p)\n",
    "print('Std. Err.: ', stderr)\n",
    "\n",
    "# Plot\n",
    "plt = ggplot(temp)\n",
    "plt = plt + geom_point(aes(x='Tsonic', y='Ta'), size=1)\n",
    "plt = plt + labs(x='$T_{a}$ (Sonic) [K]', y='$T_{a}$ (Normal) [K]', parse=True)\n",
    "plt = plt + geom_smooth(aes(x='Tsonic', y='Ta'), method='lm', size=1)\n",
    "plt = plt + theme_bw()\n",
    "plt = plt + theme(text=element_text(family=\"serif\"))\n",
    "print(plt)"
   ]
  },
  {
   "cell_type": "markdown",
   "id": "537ce534-ed70-4c4d-8499-e7dfd32c8978",
   "metadata": {
    "tags": []
   },
   "source": [
    "## Afforestation Desert Background (Summer 2013 campaign)\n",
    "\n",
    "### Method by Juang et al. (2007)\n",
    "\n",
    "- Empirical equation: $\\varepsilon = -0.16 \\alpha + 0.99$"
   ]
  },
  {
   "cell_type": "code",
   "execution_count": null,
   "id": "e493882e-1198-4c32-9557-b538cddf4069",
   "metadata": {
    "tags": []
   },
   "outputs": [],
   "source": [
    "emissivity_juang = emissivity_juang2007(df_summer1)\n",
    "emissivity_juang2007(df_summer1)"
   ]
  },
  {
   "cell_type": "markdown",
   "id": "3a8f145f-4ae2-47b2-bbdc-ef029fd5e392",
   "metadata": {},
   "source": [
    "#### Method by Maes et. al (2019)\n",
    "\n",
    "- Equation: $\\varepsilon = \\frac{R_{l,\\uparrow} - R_{l,\\downarrow}}{T_a^4 \\sigma - R_{l,\\downarrow}}$\n",
    "- Data filter: $−2 < H < 2$ , and $\\alpha < 0.4$"
   ]
  },
  {
   "cell_type": "code",
   "execution_count": null,
   "id": "445ade81-b3f1-423f-a758-4afb7614ae7c",
   "metadata": {},
   "outputs": [],
   "source": [
    "emissivity_maes = emissivity_maesetal2019(df_summer1)\n",
    "print('Emissivity (Maes et al. 2019):', np.round(emissivity_maes[0], 2), '±' , np.round(emissivity_maes[1], 2))"
   ]
  },
  {
   "cell_type": "markdown",
   "id": "0f3989eb-32f0-4a41-9f63-f589b1d8761f",
   "metadata": {},
   "source": [
    "#### Method by Thakur et al. (2022): BEST METHOD\n",
    "\n",
    "- Long eq. for thermal radiation (ignoring the air column) solved for $T_s$ yields: $ T_s = \\sqrt[4]{\\frac{R_{l,\\uparrow} - (1 - \\varepsilon) R_{l,\\downarrow}}{\\varepsilon\\sigma}}$ (i.e. Thakur et al., 2021; eq. 7)\n",
    "- Find correlation between $H$ and $Ts − Ta$ using: $H = m(Ts − Ta) + c$, where $m$ is the proportionality constant or heat transfer coefficient, and $c$ is the offset due to the $H$ from surfaces in the aerodynamic footprint that are not seen by the radiometer\n",
    "- Data filter: Wind speed larger than 0.1 m s-1, Net radiation larger than 25 W m-2\n",
    "\n",
    "Results:\n",
    "- Criteria for choice of a certain  emissivity:\n",
    "  - Intercept should be < 5-10% of $H$ (here, ca. $15-30 W m^{-2}$\n",
    "  - Good agreement between Thakur et al. (2022) & Maes et al. (2019) gives us more confidence\n",
    "  - The resulting slope is consistent to getting an $r_H \\approx 100 s m^{-1}$"
   ]
  },
  {
   "cell_type": "code",
   "execution_count": null,
   "id": "61377718-7433-45f4-9d7c-47c5046bd51a",
   "metadata": {},
   "outputs": [],
   "source": [
    "# Search emissivity\n",
    "out_df = search_emissivity(df_summer1)\n",
    "\n",
    "# Show some results\n",
    "chosen_emissivity = np.round(emissivity_maes[0],3)\n",
    "display(out_df.loc[(out_df['emissivity'] > (chosen_emissivity - 0.003)) & (out_df['emissivity'] < (chosen_emissivity + 0.003))])"
   ]
  },
  {
   "cell_type": "code",
   "execution_count": null,
   "id": "a85c6f4b-a843-4d33-8ccc-61cb983b018e",
   "metadata": {},
   "outputs": [],
   "source": [
    "# Chosen value\n",
    "# This is a footprint mismatch of ca 30 W m-2 (10%), considered acceptable by Thakur et al. (2022)\n",
    "print('Chosen emissivity:', out_df.loc[out_df['emissivity'] == chosen_emissivity, 'emissivity'].values[0])\n",
    "\n",
    "print('')\n",
    "print('Statistical information:')\n",
    "display(out_df.loc[out_df['emissivity'] == chosen_emissivity])"
   ]
  },
  {
   "cell_type": "markdown",
   "id": "c0489361-8d51-4423-bf73-a97f6bd6f0cf",
   "metadata": {},
   "source": [
    "#### Plot results"
   ]
  },
  {
   "cell_type": "code",
   "execution_count": null,
   "id": "28892362-f801-4ef0-a849-3df12d68d0bb",
   "metadata": {},
   "outputs": [],
   "source": [
    "# Show RMSE curve\n",
    "plt = ggplot(out_df)\n",
    "plt = plt + geom_point(aes(x='emissivity', y='RMSE', colour='intercept'), size=1)\n",
    "plt = plt + labs(x='emissivity', y='RMSE', colour='Intercept', parse=True)\n",
    "plt = plt + theme_bw()\n",
    "plt = plt + theme(text=element_text(family=\"serif\"))\n",
    "print(plt)"
   ]
  },
  {
   "cell_type": "code",
   "execution_count": null,
   "id": "6e408421-7ec1-4c30-844a-3f68d64c2a83",
   "metadata": {},
   "outputs": [],
   "source": [
    "temp = df.loc[df['Rn'] > 25].copy()\n",
    "\n",
    "# Emissivity\n",
    "emissivity = chosen_emissivity\n",
    "\n",
    "# Surface temperature [K]\n",
    "temp['Ts'] = ((temp['Lout'] - (1 - emissivity) * temp['Lin']) / (emissivity * sigma))**(1/4)\n",
    "# Surface-Air temperature difference (Note: Ta must be in K)\n",
    "temp['dT'] = temp['Ts'] - temp['Ta']\n",
    "# Filter\n",
    "temp = temp.loc[~temp['dT'].isna() & ~temp['H'].isna()].copy()\n",
    "temp['time'] = temp['DateTime'].dt.strftime('%H')\n",
    "\n",
    "slope, intercept, r2, p, stderr = scipy.stats.linregress(temp['dT'], temp['H'])\n",
    "RMSE = rmse(intercept + slope * temp['dT'], temp['H'])\n",
    "\n",
    "print('Emissivity:', emissivity)\n",
    "print('Slope:     ', slope)\n",
    "print('Intercept: ', intercept)\n",
    "print('R2:        ', r2)\n",
    "print('P-value:   ', p)\n",
    "print('Std. Err.: ', stderr)\n",
    "print('RMSE:      ', RMSE)\n",
    "\n",
    "plt = ggplot(temp)\n",
    "plt = plt + geom_point(aes(x='dT', y='H', colour='time'), size=1)\n",
    "plt = plt + labs(x='$\\Delta T_{S-A}$ [°C]', y='$H$ [$W~m^{-2}$]', colour='Hour', parse=True)\n",
    "plt = plt + theme_bw()\n",
    "plt = plt + theme(text=element_text(family=\"serif\"))\n",
    "print(plt)"
   ]
  },
  {
   "cell_type": "code",
   "execution_count": null,
   "id": "19b7ce88-3fc5-4b1a-b105-04906a0f4a6f",
   "metadata": {},
   "outputs": [],
   "source": [
    "emissivity_summer1 = emissivity"
   ]
  },
  {
   "cell_type": "code",
   "execution_count": null,
   "id": "ff81732d-7c63-44d2-8ffd-eaa6ef907470",
   "metadata": {},
   "outputs": [],
   "source": []
  },
  {
   "cell_type": "markdown",
   "id": "6d4c1eea-a510-44c6-b326-691ffd805bf4",
   "metadata": {
    "tags": []
   },
   "source": [
    "## Afforestation Desert Background (Summer 2015 campaign)\n",
    "\n",
    "### Method by Juang et al. (2007)\n",
    "\n",
    "- Empirical equation: $\\varepsilon = -0.16 \\alpha + 0.99$"
   ]
  },
  {
   "cell_type": "code",
   "execution_count": null,
   "id": "d1c73730-d9fd-4c3e-bd0e-eb3e39b9e618",
   "metadata": {
    "tags": []
   },
   "outputs": [],
   "source": [
    "emissivity_juang2007(df_summer2)"
   ]
  },
  {
   "cell_type": "markdown",
   "id": "917ce290-7f99-47e9-aabc-f293f357520a",
   "metadata": {},
   "source": [
    "#### Method by Maes et. al (2019)\n",
    "\n",
    "- Equation: $\\varepsilon = \\frac{R_{l,\\uparrow} - R_{l,\\downarrow}}{T_a^4 \\sigma - R_{l,\\downarrow}}$\n",
    "- Data filter: $−2 < H < 2$ , and $\\alpha < 0.4$"
   ]
  },
  {
   "cell_type": "code",
   "execution_count": null,
   "id": "d9664b3e-996c-4f29-9c3e-08d203c063fb",
   "metadata": {},
   "outputs": [],
   "source": [
    "emissivity_maes = emissivity_maesetal2019(df_summer2)\n",
    "print('Emissivity (Maes et al. 2019):', np.round(emissivity_maes[0], 2), '±' , np.round(emissivity_maes[1], 2))"
   ]
  },
  {
   "cell_type": "markdown",
   "id": "e242e305-9c6d-4230-91d6-71d046fbaf18",
   "metadata": {},
   "source": [
    "#### Method by Thakur et al. (2022): BEST METHOD\n",
    "\n",
    "- Long eq. for thermal radiation (ignoring the air column) solved for $T_s$ yields: $ T_s = \\sqrt[4]{\\frac{R_{l,\\uparrow} - (1 - \\varepsilon) R_{l,\\downarrow}}{\\varepsilon\\sigma}}$ (i.e. Thakur et al., 2021; eq. 7)\n",
    "- Find correlation between $H$ and $Ts − Ta$ using: $H = m(Ts − Ta) + c$, where $m$ is the proportionality constant or heat transfer coefficient, and $c$ is the offset due to the $H$ from surfaces in the aerodynamic footprint that are not seen by the radiometer\n",
    "- Data filter: Wind speed larger than 0.1 m s-1, Net radiation larger than 25 W m-2"
   ]
  },
  {
   "cell_type": "code",
   "execution_count": null,
   "id": "d096ed4f-2084-4b90-900d-9eacc19102a4",
   "metadata": {},
   "outputs": [],
   "source": [
    "# Search emissivity\n",
    "out_df = search_emissivity(df_summer2)"
   ]
  },
  {
   "cell_type": "markdown",
   "id": "521a3b6d-698f-4932-b3aa-8885a83f9281",
   "metadata": {
    "tags": []
   },
   "source": [
    "Results:\n",
    "- Criteria for choice of a certain  emissivity:\n",
    "  - Intercept should be < 5-10% of $H$ (here, ca. $15-30 W m^{-2}$\n",
    "  - Here, Maes et al. (2019) yields an emissivitiy greater than 1, so only the Thakur et al. (2022) method can be considered\n",
    "  - Assuming no footprint mismatch (desert site), we choose the value with the smallest absolute intercept "
   ]
  },
  {
   "cell_type": "code",
   "execution_count": null,
   "id": "a038c6ab-3921-4a78-a485-0b81a56bfbfa",
   "metadata": {},
   "outputs": [],
   "source": [
    "# Chose value with smallest absolute intercept\n",
    "out_df['abs_intercept'] = np.abs(out_df['intercept'])\n",
    "out_df.sort_values(by=['abs_intercept'], ascending=True, inplace=True)\n",
    "out_df.drop('abs_intercept', axis=1, inplace=True)\n",
    "\n",
    "# Save chosen emissivity\n",
    "chosen_emissivity = out_df['emissivity'].values[0]\n",
    "\n",
    "# Chosen value\n",
    "# This is a footprint mismatch of ca 30 W m-2 (10%), considered acceptable by Thakur et al. (2022)\n",
    "print('Chosen emissivity:', out_df.loc[out_df['emissivity'] == chosen_emissivity, 'emissivity'].values[0])\n",
    "\n",
    "print('')\n",
    "print('Statistical information:')\n",
    "display(out_df.loc[out_df['emissivity'] == chosen_emissivity])"
   ]
  },
  {
   "cell_type": "markdown",
   "id": "ba088fb0-bdc2-49d5-b5e3-2ec0a03be280",
   "metadata": {},
   "source": [
    "#### Plot results"
   ]
  },
  {
   "cell_type": "code",
   "execution_count": null,
   "id": "21156109-cd4a-44e0-a1d7-f3f588c45487",
   "metadata": {},
   "outputs": [],
   "source": [
    "# Show RMSE curve\n",
    "plt = ggplot(out_df)\n",
    "plt = plt + geom_point(aes(x='emissivity', y='RMSE', colour='intercept'), size=1)\n",
    "plt = plt + labs(x='emissivity', y='RMSE', colour='Intercept', parse=True)\n",
    "plt = plt + theme_bw()\n",
    "plt = plt + theme(text=element_text(family=\"serif\"))\n",
    "print(plt)"
   ]
  },
  {
   "cell_type": "code",
   "execution_count": null,
   "id": "3dcdfb98-5501-4185-9b6f-ce79f535e6a4",
   "metadata": {},
   "outputs": [],
   "source": [
    "# Show RMSE curve\n",
    "plt = ggplot(out_df)\n",
    "plt = plt + geom_point(aes(x='emissivity', y='R2', colour='intercept'), size=1)\n",
    "plt = plt + labs(x='emissivity', y='R2', colour='Intercept', parse=True)\n",
    "plt = plt + theme_bw()\n",
    "plt = plt + theme(text=element_text(family=\"serif\"))\n",
    "print(plt)"
   ]
  },
  {
   "cell_type": "code",
   "execution_count": null,
   "id": "dcbcf370-6c70-44a1-b80a-866b5a7ff7a7",
   "metadata": {},
   "outputs": [],
   "source": [
    "temp = df_summer2.loc[df['Rn'] > 25].copy()\n",
    "\n",
    "# Emissivity\n",
    "emissivity = chosen_emissivity\n",
    "\n",
    "# Surface temperature [K]\n",
    "temp['Ts'] = ((temp['Lout'] - (1 - emissivity) * temp['Lin']) / (emissivity * sigma))**(1/4)\n",
    "# Surface-Air temperature difference (Note: Ta must be in K)\n",
    "temp['dT'] = temp['Ts'] - temp['Ta']\n",
    "# Filter\n",
    "temp = temp.loc[~temp['dT'].isna() & ~temp['H'].isna()].copy()\n",
    "temp['time'] = temp['DateTime'].dt.strftime('%H')\n",
    "\n",
    "slope, intercept, r2, p, stderr = scipy.stats.linregress(temp['dT'], temp['H'])\n",
    "RMSE = rmse(intercept + slope * temp['dT'], temp['H'])\n",
    "\n",
    "print('Emissivity:', emissivity)\n",
    "print('Slope:     ', slope)\n",
    "print('Intercept: ', intercept)\n",
    "print('R2:        ', r2)\n",
    "print('P-value:   ', p)\n",
    "print('Std. Err.: ', stderr)\n",
    "print('RMSE:      ', RMSE)\n",
    "\n",
    "plt = ggplot(temp)\n",
    "plt = plt + geom_point(aes(x='dT', y='H', colour='time'), size=1)\n",
    "plt = plt + labs(x='$\\Delta T_{S-A}$ [°C]', y='$H$ [$W~m^{-2}$]', colour='Hour', parse=True)\n",
    "plt = plt + theme_bw()\n",
    "plt = plt + theme(text=element_text(family=\"serif\"))\n",
    "print(plt)"
   ]
  },
  {
   "cell_type": "code",
   "execution_count": null,
   "id": "3c0e5d22-121b-477a-b1fe-2ff0ba55e276",
   "metadata": {},
   "outputs": [],
   "source": [
    "emissivity_summer2 = emissivity"
   ]
  },
  {
   "cell_type": "markdown",
   "id": "7a1b104b-781c-4dc6-818b-74d52f8c8afe",
   "metadata": {},
   "source": [
    "## Mean of 2 seasons"
   ]
  },
  {
   "cell_type": "code",
   "execution_count": null,
   "id": "b6078807-b8df-480b-bb46-48e7ac971b97",
   "metadata": {},
   "outputs": [],
   "source": [
    "print('Summer 2013:', emissivity_summer1)\n",
    "print('Summer 2015:', emissivity_summer2)\n",
    "print('Mean:', np.round(np.mean([emissivity_summer1, emissivity_summer2]),2))"
   ]
  },
  {
   "cell_type": "code",
   "execution_count": null,
   "id": "51992546-bd0f-4a92-913c-995fe33f4dde",
   "metadata": {},
   "outputs": [],
   "source": []
  }
 ],
 "metadata": {
  "kernelspec": {
   "display_name": "dp",
   "language": "python",
   "name": "dp"
  },
  "language_info": {
   "codemirror_mode": {
    "name": "ipython",
    "version": 3
   },
   "file_extension": ".py",
   "mimetype": "text/x-python",
   "name": "python",
   "nbconvert_exporter": "python",
   "pygments_lexer": "ipython3",
   "version": "3.8.2"
  }
 },
 "nbformat": 4,
 "nbformat_minor": 5
}
