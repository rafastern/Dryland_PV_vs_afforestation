{
 "cells": [
  {
   "cell_type": "markdown",
   "id": "c4d317f1",
   "metadata": {},
   "source": [
    "# Supplementary Figure S2: Comparison of meteo conditions"
   ]
  },
  {
   "cell_type": "code",
   "execution_count": null,
   "id": "4dc8f0f8",
   "metadata": {},
   "outputs": [],
   "source": [
    "import pandas as pd\n",
    "import numpy as np\n",
    "import glob\n",
    "import re\n",
    "\n",
    "from plotnine import *\n",
    "from mizani.breaks import date_breaks\n",
    "from mizani.formatters import date_format\n",
    "# Colours\n",
    "cbPalette = ['#939393', '#0072B2', '#E69F00', '#CC00CC', '#009E73', '#D55E00', '#CC79A7', '#FF3300', '#F0E442', '#56B4E9']"
   ]
  },
  {
   "cell_type": "code",
   "execution_count": null,
   "id": "e53baa39-b207-4c53-b084-4a83327eb0bb",
   "metadata": {},
   "outputs": [],
   "source": [
    "project_path = '../'\n",
    "data_path   = project_path + '../data/'\n",
    "\n",
    "# Main dataset\n",
    "main_dataset_fn = data_path + 'dataset.csv'\n",
    "\n",
    "# Auxiliary meteo data\n",
    "meteo_pv_fn  = data_path + 'met_data_pv.csv'\n",
    "meteo_aff_fn = data_path + 'afforestation_albedo.csv'\n",
    "\n",
    "# Outputs\n",
    "graphs_path  = project_path + '../graphs/'"
   ]
  },
  {
   "cell_type": "markdown",
   "id": "87a64345",
   "metadata": {},
   "source": [
    "### Functions"
   ]
  },
  {
   "cell_type": "code",
   "execution_count": null,
   "id": "902fde29-0d5c-40a9-8282-929680268a7c",
   "metadata": {},
   "outputs": [],
   "source": [
    "def load_data(fn, index_col=False, silent=False):\n",
    "    if (not silent):\n",
    "        print('-', fn.split('/')[-1])\n",
    "    temp = pd.read_csv(fn, index_col=index_col)\n",
    "    temp['DateTime'] = pd.to_datetime(temp['DateTime'], format='%Y-%m-%d %H:%M:%S')\n",
    "    return(temp)\n",
    "\n",
    "# Create annual daily values\n",
    "def make_daily_annual(temp, groups=[]):\n",
    "    temp = temp.copy()\n",
    "    temp['Day'] = temp['DateTime'].dt.strftime('%m-%d')\n",
    "    annual_df = temp.groupby(['Day'] + groups).mean()\n",
    "    annual_df.reset_index(inplace = True)\n",
    "    annual_df['DateTime'] = pd.to_datetime(annual_df['Day'], format='%m-%d')\n",
    "    return(annual_df)"
   ]
  },
  {
   "cell_type": "code",
   "execution_count": null,
   "id": "8ef4ac06-8184-46fd-86b9-b98ae630e862",
   "metadata": {},
   "outputs": [],
   "source": [
    "print('Loading data...')\n",
    "\n",
    "# Main dataset\n",
    "df = load_data(main_dataset_fn)\n",
    "\n",
    "# Meteo data (Station near PV Field)\n",
    "met_pv = load_data(meteo_pv_fn)\n",
    "\n",
    "# Meteo data (Forest research station)\n",
    "met_aff = load_data(meteo_aff_fn)\n",
    "met_aff['Ecosystem'] = 'Afforestation'\n",
    "# Keep only the same years as truck campaigns, and relevant columns\n",
    "met_aff = met_aff.loc[(met_aff['DateTime'].dt.year == 2013) | (met_aff['DateTime'].dt.year == 2015), ['DateTime','Ecosystem', 'SWin', 'Ta']]\n",
    "\n",
    "print('Done...')"
   ]
  },
  {
   "cell_type": "code",
   "execution_count": null,
   "id": "3ffd7da4-5b3e-456d-a3ba-802ff6c8a506",
   "metadata": {},
   "outputs": [],
   "source": [
    "# Select relevant columns\n",
    "small_df = df.loc[df['Ecosystem'] != 'Afforestation', ['Ecosystem', 'DateTime', 'SWin', 'Ta']].copy().reset_index(drop=True)\n",
    "\n",
    "# Assign location\n",
    "small_df['Location'] = np.nan\n",
    "small_df.loc[small_df['Ecosystem'].isin(['PV desert background', 'PV field']), 'Location']                 = 'PV Field Area (Ketura)'\n",
    "small_df.loc[small_df['Ecosystem'].isin(['Afforestation desert background', 'Afforestation']), 'Location'] = 'Forest Area (Yatir)'\n",
    "\n",
    "# Assign source\n",
    "small_df['Source'] = 'Mobile Lab'\n",
    "\n",
    "# Meteo station data at afforestation ('Forest Research Station')\n",
    "met_aff['Source'] = 'Meteo Station'\n",
    "met_aff['Location'] = 'Forest Area (Yatir)'\n",
    "\n",
    "# Meteo station data at PV field\n",
    "met_pv = met_pv[['Ecosystem', 'DateTime', 'SWin', 'Ta']].copy().reset_index(drop=True)\n",
    "met_pv['Source'] = 'Meteo Station'\n",
    "met_pv['Location'] = 'PV Field Area (Ketura)'\n",
    "\n",
    "# Merge with meteo station data\n",
    "all_df = pd.concat([small_df, met_pv], axis=0, ignore_index=True)\n",
    "all_df = pd.concat([all_df, met_aff], axis=0, ignore_index=True)\n",
    "\n",
    "# Make daily means\n",
    "annual_df = make_daily_annual(all_df, groups=['Location', 'Ecosystem', 'Source'])\n",
    "\n",
    "# Remove bad values\n",
    "annual_df.loc[(annual_df['Ecosystem'].isin(['PV desert background', 'PV field'])) & (annual_df['SWin'] > 400), 'SWin'] = np.nan # Remove half-day in Ketura PV field\n",
    "annual_df.loc[(annual_df['SWin'] < 10), 'SWin'] = np.nan # Remove outliers"
   ]
  },
  {
   "cell_type": "code",
   "execution_count": null,
   "id": "b75a6873-bd7d-4e85-9b30-fd69f040c942",
   "metadata": {},
   "outputs": [],
   "source": [
    "# Prepare\n",
    "#--------\n",
    "# Convert to long format\n",
    "annual_long = pd.melt(annual_df[['DateTime', 'Source', 'Location', 'SWin', 'Ta']], id_vars=['DateTime', 'Source', 'Location'])\n",
    "# Adjust labels\n",
    "annual_long.loc[annual_long['variable'] == 'SWin', 'variable'] = '$S_{in}$ [$W~m^{-2}$]'\n",
    "annual_long.loc[annual_long['variable'] == 'Ta', 'variable'] = '$T_{a}$ [°C]'\n",
    "\n",
    "# Make figure\n",
    "#--------------\n",
    "plt = ggplot(annual_long)\n",
    "plt = plt + geom_point(aes(x='DateTime', y='value', colour = 'Source'), size=0.5)\n",
    "plt = plt + theme_bw()\n",
    "plt = plt + theme(axis_text_x=element_text(angle=45),\n",
    "                  axis_title_x=element_blank(), axis_title_y=element_blank())\n",
    "plt = plt + labs(x='Month', y='$S_{in}$ [$W~m^{-2}$]', colour = 'Source')\n",
    "plt = plt + scale_x_datetime(breaks=date_breaks('1 month'), labels=date_format('%b'))\n",
    "plt = plt + scale_colour_manual(values=cbPalette) + scale_fill_manual(values=cbPalette)\n",
    "plt = plt + facet_grid('variable ~ Location', scales='free_y')\n",
    "print(plt)\n",
    "\n",
    "#plt.save(graphs_path + 'meteo_parameters.png', width=1.6*15, height=1.6*7.5, units='cm', dpi=600)\n",
    "#plt.save(graphs_path + 'meteo_parameters.pdf', width=1.6*15, height=1.6*7.5, units='cm', dpi=600)"
   ]
  },
  {
   "cell_type": "code",
   "execution_count": null,
   "id": "745475d3-f1fe-48e5-8869-8b99ffa84b59",
   "metadata": {},
   "outputs": [],
   "source": []
  }
 ],
 "metadata": {
  "kernelspec": {
   "display_name": "dp",
   "language": "python",
   "name": "dp"
  },
  "language_info": {
   "codemirror_mode": {
    "name": "ipython",
    "version": 3
   },
   "file_extension": ".py",
   "mimetype": "text/x-python",
   "name": "python",
   "nbconvert_exporter": "python",
   "pygments_lexer": "ipython3",
   "version": "3.8.2"
  }
 },
 "nbformat": 4,
 "nbformat_minor": 5
}
