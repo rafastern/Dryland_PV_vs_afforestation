{
 "cells": [
  {
   "cell_type": "markdown",
   "id": "c4d317f1",
   "metadata": {},
   "source": [
    "# Supplementary Methods S1: Global albedo\n",
    "\n",
    "Based on Tables 1-6 in:\n",
    "Elena A. Tsvetsinskaya, Crystal B. Schaaf, Feng Gao, Alan H. Strahler, Robert E. Dickinson. 2006. Spatial and temporal variability in Moderate Resolution Imaging Spectroradiometer–derived surface albedo over global arid regions. https://doi.org/10.1029/2005JD006772\n",
    "\n",
    "### Usage\n",
    "1. Create a parent folder data/global_albedo/\n",
    "2. Go to https://doi.org/10.1029/2005JD006772 and download the supplementary information files into that folder"
   ]
  },
  {
   "cell_type": "code",
   "execution_count": null,
   "id": "4dc8f0f8",
   "metadata": {},
   "outputs": [],
   "source": [
    "import pandas as pd\n",
    "import numpy as np\n",
    "from scipy import stats\n",
    "\n",
    "import re\n",
    "import glob\n",
    "\n",
    "from plotnine import *"
   ]
  },
  {
   "cell_type": "code",
   "execution_count": null,
   "id": "e53baa39-b207-4c53-b084-4a83327eb0bb",
   "metadata": {},
   "outputs": [],
   "source": [
    "project_path = './'\n",
    "\n",
    "# Raw data from the paper\n",
    "data_path   = project_path + '../data/global_albedo/'\n",
    "\n",
    "# Output for combined data file (without stddevs)\n",
    "output_path = project_path + '../data/global_albedo/'\n",
    "output_fn = 'jgrd12712-combined_tables.csv'\n",
    "\n",
    "# In case we want to make a figure\n",
    "graphs_path = project_path + '../graphs/'"
   ]
  },
  {
   "cell_type": "markdown",
   "id": "87a64345",
   "metadata": {},
   "source": [
    "### Functions"
   ]
  },
  {
   "cell_type": "code",
   "execution_count": null,
   "id": "070df4aa-741f-4563-b6cb-2a9421300691",
   "metadata": {},
   "outputs": [],
   "source": [
    "def load_raw_paper_data(fn, silent=False):\n",
    "    if(not silent):\n",
    "        print('  -', fn.split('/')[-1], end=': ')\n",
    "    # Read the data\n",
    "    df = pd.read_csv(fn, skiprows=2, skipfooter=1, engine='python',sep='\\t', thousands=',')\n",
    "    # Read the region\n",
    "    with open(fn) as f:\n",
    "        first_line = f.readline()\n",
    "    region = re.sub(r'^.*?Arid Regions of ', '', first_line)\n",
    "    region = re.sub(r', by FAO Soil Groupa\\n', '', region)\n",
    "    print(region)\n",
    "    \n",
    "    # Add region column in the beginning\n",
    "    df['Region'] = region\n",
    "    col = df.pop('Region')\n",
    "    df.insert(0, 'Region', col)\n",
    "    \n",
    "    # Modify the text data to numbers:\n",
    "    # Remove stddevs\n",
    "    df['Pixel Number'] = df['Pixel Number'].str.replace(r\"\\(.*\\)\",\"\", regex=True)\n",
    "    df['300-700 nm']   = df['300-700 nm'].str.replace(r\"\\(.*\\)\",\"\", regex=True)\n",
    "    df['700-5,000 nm'] = df['700-5,000 nm'].str.replace(r\"\\(.*\\)\",\"\", regex=True)\n",
    "    df['300-5,000 nm'] = df['300-5,000 nm'].str.replace(r\"\\(.*\\)\",\"\", regex=True)\n",
    "    # Remove commas\n",
    "    df['Pixel Number'] = df['Pixel Number'].str.replace(',','')\n",
    "    # Convert to numbers\n",
    "    df['Pixel Number'] = pd.to_numeric(df['Pixel Number'])\n",
    "    df['300-700 nm']   = pd.to_numeric(df['300-700 nm'])\n",
    "    df['700-5,000 nm'] = pd.to_numeric(df['700-5,000 nm'])\n",
    "    df['300-5,000 nm'] = pd.to_numeric(df['300-5,000 nm'])\n",
    "    \n",
    "    return(df)\n",
    "\n",
    "def load_all_paper_data(directory, silent=False):\n",
    "    file_list = sorted(glob.glob(directory + '**/*.txt', recursive=True))\n",
    "    \n",
    "    data_list = []\n",
    "    for idx, filename in enumerate(file_list):\n",
    "        temp = load_raw_paper_data(filename, silent=silent)\n",
    "        data_list.append(temp)\n",
    "    # Combine all the read data\n",
    "    df = pd.concat(data_list, axis=0, ignore_index=True)\n",
    "    return(df)"
   ]
  },
  {
   "cell_type": "code",
   "execution_count": null,
   "id": "2e0ea6f9-1880-41b6-8446-e2ae8980e795",
   "metadata": {},
   "outputs": [],
   "source": [
    "print('Loading data...')\n",
    "df = load_all_paper_data(data_path)\n",
    "\n",
    "# Save completed df to csv file\n",
    "print('  - Saving complete df to:', output_fn)\n",
    "df.to_csv(output_path + output_fn, index=False)\n",
    "\n",
    "print('Done...')\n",
    "print(df.columns.values)"
   ]
  },
  {
   "cell_type": "code",
   "execution_count": null,
   "id": "d9b6ee4b-f316-4427-9f83-c9b2a052c74c",
   "metadata": {},
   "outputs": [],
   "source": [
    "def weighted_avg_and_std(values, weights):\n",
    "    # Return the weighted average and standard deviation.\n",
    "    average = np.average(values, weights=weights)\n",
    "    # Fast and numerically precise:\n",
    "    variance = np.average((values-average)**2, weights=weights)\n",
    "    return (average, np.sqrt(variance))\n",
    "\n",
    "print('Global mean albedo:')\n",
    "mean_std = weighted_avg_and_std(df['300-5,000 nm'], weights=df['Pixel Number'])\n",
    "print(np.round(mean_std[0], 2), '(' + str(np.round(mean_std[1], 2)) + ')')"
   ]
  },
  {
   "cell_type": "code",
   "execution_count": null,
   "id": "c4b62a3f-928e-491e-881d-b55a1c6d396e",
   "metadata": {},
   "outputs": [],
   "source": []
  }
 ],
 "metadata": {
  "kernelspec": {
   "display_name": "dp",
   "language": "python",
   "name": "dp"
  },
  "language_info": {
   "codemirror_mode": {
    "name": "ipython",
    "version": 3
   },
   "file_extension": ".py",
   "mimetype": "text/x-python",
   "name": "python",
   "nbconvert_exporter": "python",
   "pygments_lexer": "ipython3",
   "version": "3.8.2"
  }
 },
 "nbformat": 4,
 "nbformat_minor": 5
}
