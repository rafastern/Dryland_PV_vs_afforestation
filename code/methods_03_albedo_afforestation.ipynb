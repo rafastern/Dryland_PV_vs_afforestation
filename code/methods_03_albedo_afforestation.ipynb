{
 "cells": [
  {
   "cell_type": "markdown",
   "id": "975b784b-a542-46ff-ac6b-77ceae89eb23",
   "metadata": {},
   "source": [
    "# Albedo Afforestation"
   ]
  },
  {
   "cell_type": "code",
   "execution_count": null,
   "id": "7471b1d4-c424-47d4-98e3-976d54682d9d",
   "metadata": {},
   "outputs": [],
   "source": [
    "import pandas as pd\n",
    "import numpy as np\n",
    "import glob"
   ]
  },
  {
   "cell_type": "code",
   "execution_count": null,
   "id": "31507be4-2c7f-4979-9d2a-3eda114002c9",
   "metadata": {},
   "outputs": [],
   "source": [
    "# Data location\n",
    "project_path = './'\n",
    "data_path = project_path + '../data/'\n",
    "\n",
    "data_fn = data_path + 'dataset.csv'\n",
    "afforestation_fn = data_path + 'afforestation_albedo.csv'"
   ]
  },
  {
   "cell_type": "code",
   "execution_count": null,
   "id": "cbe56e7f-603f-4dd7-8c9d-860f675c4c9d",
   "metadata": {},
   "outputs": [],
   "source": [
    "def load_data(fn, index_col=False, silent=False):\n",
    "    if (not silent):\n",
    "        print('-', fn.split('/')[-1])\n",
    "    temp = pd.read_csv(fn, index_col=index_col)\n",
    "    temp['DateTime'] = pd.to_datetime(temp['DateTime'], format='%Y-%m-%d %H:%M:%S', utc=True)\n",
    "    return(temp)\n",
    "\n",
    "def weighted_avg_and_std(values, weights):\n",
    "    values = np.ma.masked_invalid(values)\n",
    "    #masked_arr = np.ma.masked_array(values, np.isnan(values))\n",
    "    \n",
    "    # Return the weighted average and standard deviation.\n",
    "    average = np.ma.average(values, weights=weights)\n",
    "    # Fast and numerically precise:\n",
    "    variance = np.ma.average((values-average)**2, weights=weights)\n",
    "    \n",
    "    maximum = np.max(values)\n",
    "    minimum = np.min(values)\n",
    "    return (average, np.sqrt(variance), maximum, minimum)"
   ]
  },
  {
   "cell_type": "code",
   "execution_count": null,
   "id": "7ef8dec2-c5b4-4c79-a4b4-7cfd21cd5a63",
   "metadata": {},
   "outputs": [],
   "source": [
    "print('Loading data...')\n",
    "\n",
    "df = load_data(data_fn)\n",
    "\n",
    "desert_df = df.loc[df['Ecosystem'] == 'Afforestation desert background'].copy()\n",
    "\n",
    "forest_df = df.loc[(df['Ecosystem'] == 'Afforestation') & ((df['DateTime'].dt.year == 2018) | (df['DateTime'].dt.year == 2019))].copy()\n",
    "forest_long_duration = load_data(afforestation_fn)\n",
    "\n",
    "print('Done...')"
   ]
  },
  {
   "cell_type": "code",
   "execution_count": null,
   "id": "eeb51875-cb32-4752-9175-160e3fc27944",
   "metadata": {},
   "outputs": [],
   "source": [
    "print('Calculating mean albedo:')\n",
    "\n",
    "#print(desert_df.columns.values)\n",
    "\n",
    "print('  - Calculate albedo')\n",
    "# Calculate albedo\n",
    "forest_df['albedo'] = forest_df['SWout'] / forest_df['SWin']\n",
    "desert_df['albedo'] = desert_df['SWout'] / desert_df['SWin']\n",
    "\n",
    "# Filter out values divided by 0\n",
    "# Forest\n",
    "forest_df = forest_df.loc[forest_df['albedo'] > 0].copy()\n",
    "forest_df = forest_df.loc[(forest_df['SWin'] > 0) & (forest_df['SWout'] > 0)].copy()\n",
    "forest_df.loc[forest_df['albedo'] > 1, 'albedo'] = np.nan\n",
    "# Desert\n",
    "desert_df = desert_df.loc[desert_df['albedo'] > 0].copy()\n",
    "desert_df = desert_df.loc[(desert_df['SWin'] > 0) & (desert_df['SWin'] > 0)].copy()\n",
    "desert_df.loc[desert_df['albedo'] > 1, 'albedo'] = np.nan\n",
    "\n",
    "\n",
    "print('  - Forest albedo (based on 2018-2019)')\n",
    "mean, std, maximum, minimum = weighted_avg_and_std(forest_df['albedo'], forest_df['SWin'])\n",
    "print('    - Mean: ', str(np.round(mean, 2)) + '±' + str(np.round(std, 3)))\n",
    "print('    - Max.: ', str(np.round(maximum, 2)))\n",
    "print('    - Min.: ', str(np.round(minimum, 2)))\n",
    "mean_forest = mean\n",
    "std_forest = std\n",
    "\n",
    "print('  - Desert albedo')\n",
    "mean, std, maximum, minimum = weighted_avg_and_std(desert_df['albedo'], desert_df['SWin'])\n",
    "print('    - Mean: ', str(np.round(mean, 2)) + '±' + str(np.round(std, 3)))\n",
    "print('    - Max.: ', str(np.round(maximum, 2)))\n",
    "print('    - Min.: ', str(np.round(minimum, 2)))\n",
    "mean_desert = mean\n",
    "std_desert = std\n",
    "\n",
    "print('  - Change in albedo from planting a forest')\n",
    "delta_albedo = mean_desert - mean_forest\n",
    "std_delta_albedo = np.sqrt(std_desert**2 + std_forest**2)\n",
    "print('    - Mean: ', str(np.round(delta_albedo, 2)) + '±' + str(np.round(std_delta_albedo, 3)))\n",
    "\n",
    "print('Done...')"
   ]
  },
  {
   "cell_type": "markdown",
   "id": "36d20645-211a-4b24-b1e3-3a2c7eabbdf2",
   "metadata": {},
   "source": [
    "### Yatir afforestation 2010-2020"
   ]
  },
  {
   "cell_type": "code",
   "execution_count": null,
   "id": "76f305c9-5710-4c5a-a487-c60e3d47ba27",
   "metadata": {},
   "outputs": [],
   "source": [
    "forest_df = forest_long_duration\n",
    "\n",
    "print('Calculating annual albedo:')\n",
    "\n",
    "print('  - Calculate albedo')\n",
    "# Calculate albedo\n",
    "forest_df['albedo'] = forest_df['SWout'] / forest_df['SWin']\n",
    "desert_df['albedo'] = desert_df['SWout'] / desert_df['SWin']\n",
    "\n",
    "# Filter out values divided by 0\n",
    "# Forest\n",
    "forest_df = forest_df.loc[forest_df['albedo'] > 0].copy()\n",
    "forest_df = forest_df.loc[(forest_df['SWin'] > 0) & (forest_df['SWout'] > 0)].copy()\n",
    "forest_df.loc[forest_df['albedo'] > 1, 'albedo'] = np.nan\n",
    "# Desert\n",
    "desert_df = desert_df.loc[desert_df['albedo'] > 0].copy()\n",
    "desert_df = desert_df.loc[(desert_df['SWin'] > 0) & (desert_df['SWin'] > 0)].copy()\n",
    "desert_df.loc[desert_df['albedo'] > 1, 'albedo'] = np.nan\n",
    "\n",
    "print('  - Forest albedo (based on 2010-2020)')\n",
    "mean, std, maximum, minimum = weighted_avg_and_std(forest_df['albedo'], forest_df['SWin'])\n",
    "print('    - Mean: ', str(np.round(mean, 2)) + '±' + str(np.round(std, 3)))\n",
    "print('    - Max.: ', str(np.round(maximum, 2)))\n",
    "print('    - Min.: ', str(np.round(minimum, 2)))\n",
    "mean_forest = mean\n",
    "std_forest = std\n",
    "\n",
    "print('  - Desert albedo')\n",
    "mean, std, maximum, minimum = weighted_avg_and_std(desert_df['albedo'], desert_df['SWin'])\n",
    "print('    - Mean: ', str(np.round(mean, 2)) + '±' + str(np.round(std, 3)))\n",
    "print('    - Max.: ', str(np.round(maximum, 2)))\n",
    "print('    - Min.: ', str(np.round(minimum, 2)))\n",
    "mean_desert = mean\n",
    "std_desert = std\n",
    "\n",
    "print('  - Change in albedo from planting a forest')\n",
    "delta_albedo = mean_desert - mean_forest\n",
    "std_delta_albedo = np.sqrt(std_desert**2 + std_forest**2)\n",
    "print('    - Mean: ', str(np.round(delta_albedo, 2)) + '±' + str(np.round(std_delta_albedo, 3)))\n",
    "\n",
    "print('Done...')"
   ]
  },
  {
   "cell_type": "code",
   "execution_count": null,
   "id": "955acd7d-7304-49f0-aa6b-70ac788245ae",
   "metadata": {},
   "outputs": [],
   "source": []
  }
 ],
 "metadata": {
  "kernelspec": {
   "display_name": "dp",
   "language": "python",
   "name": "dp"
  },
  "language_info": {
   "codemirror_mode": {
    "name": "ipython",
    "version": 3
   },
   "file_extension": ".py",
   "mimetype": "text/x-python",
   "name": "python",
   "nbconvert_exporter": "python",
   "pygments_lexer": "ipython3",
   "version": "3.8.2"
  }
 },
 "nbformat": 4,
 "nbformat_minor": 5
}
